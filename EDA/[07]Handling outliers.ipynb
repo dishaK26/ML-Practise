{
 "cells": [
  {
   "cell_type": "markdown",
   "id": "e965e65f",
   "metadata": {},
   "source": [
    "HAndling Outliers\n",
    "5 number summary\n",
    "1. Minimum value\n",
    "2. Q1-25 Percentile\n",
    "3. Median (q2)\n",
    "4. Q3(75 percentile)\n",
    "5. Max"
   ]
  },
  {
   "cell_type": "code",
   "execution_count": null,
   "id": "62c63d20",
   "metadata": {},
   "outputs": [
    {
     "data": {
      "text/plain": [
       "array([68.25])"
      ]
     },
     "execution_count": 18,
     "metadata": {},
     "output_type": "execute_result"
    }
   ],
   "source": [
    "import numpy as np\n",
    "list_marks=[49,68,69,73,67,89,87,77,100,110]\n",
    "np.percentile(list_marks,[25])"
   ]
  },
  {
   "cell_type": "code",
   "execution_count": 19,
   "id": "1f32ee65",
   "metadata": {},
   "outputs": [
    {
     "data": {
      "text/plain": [
       "array([75.])"
      ]
     },
     "execution_count": 19,
     "metadata": {},
     "output_type": "execute_result"
    }
   ],
   "source": [
    "np.percentile(list_marks,[50])\n"
   ]
  },
  {
   "cell_type": "code",
   "execution_count": 20,
   "id": "70d19618",
   "metadata": {},
   "outputs": [
    {
     "data": {
      "text/plain": [
       "array([88.5])"
      ]
     },
     "execution_count": 20,
     "metadata": {},
     "output_type": "execute_result"
    }
   ],
   "source": [
    "np.percentile(list_marks,[75])"
   ]
  },
  {
   "cell_type": "markdown",
   "id": "2dadbb48",
   "metadata": {},
   "source": [
    "Using quanitle"
   ]
  },
  {
   "cell_type": "code",
   "execution_count": 21,
   "id": "14e5b6cd",
   "metadata": {},
   "outputs": [
    {
     "name": "stdout",
     "output_type": "stream",
     "text": [
      "88.5\n",
      "110.0\n"
     ]
    }
   ],
   "source": [
    "minimum,q1,q2,q3,maximum= np.quantile(list_marks,[0,0.25,0.50,0.75,1.0])\n",
    "print(q3)\n",
    "print(maximum)"
   ]
  },
  {
   "cell_type": "markdown",
   "id": "4a61ff95",
   "metadata": {},
   "source": [
    "Lowerfence, Higherfence"
   ]
  },
  {
   "cell_type": "code",
   "execution_count": 22,
   "id": "895b8bd1",
   "metadata": {},
   "outputs": [
    {
     "name": "stdout",
     "output_type": "stream",
     "text": [
      "20.25\n"
     ]
    }
   ],
   "source": [
    "IQR= q3-q1\n",
    "print(IQR)\n",
    "# inter quartile range"
   ]
  },
  {
   "cell_type": "code",
   "execution_count": 23,
   "id": "5b5cf992",
   "metadata": {},
   "outputs": [
    {
     "name": "stdout",
     "output_type": "stream",
     "text": [
      "37.875\n",
      "58.125\n"
     ]
    }
   ],
   "source": [
    "lowerfence= q1-1.5*(IQR)\n",
    "higherfence=q3-1.5*(IQR)\n",
    "print(lowerfence)\n",
    "print(higherfence)"
   ]
  },
  {
   "cell_type": "code",
   "execution_count": 27,
   "id": "e6e6b4c0",
   "metadata": {},
   "outputs": [
    {
     "name": "stdout",
     "output_type": "stream",
     "text": [
      "Not an outlier\n"
     ]
    }
   ],
   "source": [
    "outlier=[]\n",
    "for i in list_marks:\n",
    "    if i>=37.875 and i<=58.125:\n",
    "        print(\"Not an outlier\")\n",
    "    else:\n",
    "        outlier.append(i)\n",
    "\n"
   ]
  },
  {
   "cell_type": "code",
   "execution_count": 28,
   "id": "18a95c99",
   "metadata": {},
   "outputs": [
    {
     "data": {
      "text/plain": [
       "[68, 69, 73, 67, 89, 87, 77, 100, 110]"
      ]
     },
     "execution_count": 28,
     "metadata": {},
     "output_type": "execute_result"
    }
   ],
   "source": [
    "outlier"
   ]
  },
  {
   "cell_type": "code",
   "execution_count": 29,
   "id": "a3222faa",
   "metadata": {},
   "outputs": [
    {
     "data": {
      "text/plain": [
       "<Axes: >"
      ]
     },
     "execution_count": 29,
     "metadata": {},
     "output_type": "execute_result"
    },
    {
     "data": {
      "image/png": "[encoded data removed]",
      "text/plain": [
       "<Figure size 640x480 with 1 Axes>"
      ]
     },
     "metadata": {},
     "output_type": "display_data"
    }
   ],
   "source": [
    "import seaborn as sns\n",
    "sns.boxplot(list_marks)"
   ]
  },
  {
   "cell_type": "code",
   "execution_count": 30,
   "id": "fc32eb8a",
   "metadata": {},
   "outputs": [
    {
     "data": {
      "text/plain": [
       "<Axes: >"
      ]
     },
     "execution_count": 30,
     "metadata": {},
     "output_type": "execute_result"
    },
    {
     "data": {
      "image/png": "[encoded data removed]",
      "text/plain": [
       "<Figure size 640x480 with 1 Axes>"
      ]
     },
     "metadata": {},
     "output_type": "display_data"
    }
   ],
   "source": [
    "list_marks=[49]\n",
    "sns.boxplot(list_marks)\n"
   ]
  },
  {
   "cell_type": "code",
   "execution_count": null,
   "id": "0b86fee3",
   "metadata": {},
   "outputs": [],
   "source": []
  }
 ],
 "metadata": {
  "kernelspec": {
   "display_name": "Python 3",
   "language": "python",
   "name": "python3"
  },
  "language_info": {
   "codemirror_mode": {
    "name": "ipython",
    "version": 3
   },
   "file_extension": ".py",
   "mimetype": "text/x-python",
   "name": "python",
   "nbconvert_exporter": "python",
   "pygments_lexer": "ipython3",
   "version": "3.9.2"
  }
 },
 "nbformat": 4,
 "nbformat_minor": 5
}
